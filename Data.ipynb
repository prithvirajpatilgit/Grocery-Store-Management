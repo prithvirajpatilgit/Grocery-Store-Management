{
 "cells": [
  {
   "cell_type": "code",
   "execution_count": 1,
   "metadata": {
    "id": "OBF0Quv3mbGO"
   },
   "outputs": [],
   "source": [
    "# Price Data\n",
    "\n",
    "item_dict = {'almonds': 6,\n",
    " 'antioxidant juice': 9,\n",
    " 'avocado': 1,\n",
    " 'black tea': 4,\n",
    " 'burgers': 4,\n",
    " 'champagne': 3,\n",
    " 'chicken': 4,\n",
    " 'chocolate': 7,\n",
    " 'chutney': 7,\n",
    " 'cookies': 7,\n",
    " 'cooking oil': 7,\n",
    " 'cottage cheese': 9,\n",
    " 'eggs': 9,\n",
    " 'energy bar': 9,\n",
    " 'energy drink': 3,\n",
    " 'extra dark chocolate': 8,\n",
    " 'french fries': 7,\n",
    " 'fresh tuna': 9,\n",
    " 'frozen smoothie': 7,\n",
    " 'frozen vegetables': 2,\n",
    " 'green grapes': 8,\n",
    " 'green tea': 8,\n",
    " 'honey': 9,\n",
    " 'light cream': 5,\n",
    " 'low fat yogurt': 4,\n",
    " 'meatballs': 9,\n",
    " 'milk': 5,\n",
    " 'mineral water': 2,\n",
    " 'oil': 9,\n",
    " 'olive oil': 8,\n",
    " 'pet food': 3,\n",
    " 'protein bar': 1,\n",
    " 'salad': 7,\n",
    " 'salmon': 3,\n",
    " 'shallot': 6,\n",
    " 'shrimp': 2,\n",
    " 'soup': 2,\n",
    " 'spaghetti': 6,\n",
    " 'spinach': 7,\n",
    " 'tomato juice': 8,\n",
    " 'tomatoes': 5,\n",
    " 'turkey': 8,\n",
    " 'vegetables mix': 3,\n",
    " 'whole wheat flour': 5,\n",
    " 'whole wheat pasta': 5,\n",
    " 'whole wheat rice': 4,\n",
    " 'yams': 7}"
   ]
  },
  {
   "cell_type": "code",
   "execution_count": 2,
   "metadata": {
    "id": "_uutgZt4mcgz"
   },
   "outputs": [],
   "source": [
    "# transaction data\n",
    "\n",
    "transaction_data = \\\n",
    "[['shrimp', 'almonds', 'avocado', 'vegetables mix', 'green grapes', 'whole wheat flour', 'yams', 'cottage cheese', 'energy drink', 'tomato juice', 'low fat yogurt', 'green tea', 'honey', 'salad', 'mineral water', 'salmon', 'antioxidant juice', 'frozen smoothie', 'spinach', 'olive oil'],\n",
    "['burgers', 'meatballs', 'eggs'],\n",
    "['chutney'],\n",
    "['turkey', 'avocado'],\n",
    "['mineral water', 'milk', 'energy bar', 'whole wheat rice', 'green tea'],\n",
    "['low fat yogurt'],\n",
    "['whole wheat pasta', 'french fries'],\n",
    "['soup', 'light cream', 'shallot'],\n",
    "['frozen vegetables', 'spaghetti', 'green tea'],\n",
    "['french fries'],\n",
    "['eggs', 'pet food'],\n",
    "['cookies'],\n",
    "['turkey', 'burgers', 'mineral water', 'eggs', 'cooking oil'],\n",
    "['spaghetti', 'champagne', 'cookies'],\n",
    "['mineral water', 'salmon'],\n",
    "['mineral water'],\n",
    "['shrimp', 'chocolate', 'chicken', 'honey', 'oil', 'cooking oil', 'low fat yogurt'],\n",
    "['turkey', 'eggs'],\n",
    "['turkey', 'fresh tuna', 'tomatoes', 'spaghetti', 'mineral water', 'black tea', 'salmon', 'eggs', 'chicken', 'extra dark chocolate'],\n",
    "['meatballs', 'milk', 'honey', 'french fries', 'protein bar']]"
   ]
  },
  {
   "cell_type": "code",
   "execution_count": 6,
   "metadata": {
    "id": "lTmOHxeVmjt0"
   },
   "outputs": [
    {
     "name": "stdout",
     "output_type": "stream",
     "text": [
      "color\n",
      "age\n"
     ]
    }
   ],
   "source": [
    "pet = {'color': 'red', 'age': 42}\n",
    "for key in pet.keys():\n",
    "        print(key)"
   ]
  },
  {
   "cell_type": "code",
   "execution_count": 3,
   "metadata": {},
   "outputs": [
    {
     "name": "stdout",
     "output_type": "stream",
     "text": [
      "{'shrimp': 2, 'almonds': 1, 'avocado': 2, 'vegetables mix': 1, 'green grapes': 1, 'whole wheat flour': 1, 'yams': 1, 'cottage cheese': 1, 'energy drink': 1, 'tomato juice': 1, 'low fat yogurt': 3, 'green tea': 3, 'honey': 3, 'salad': 1, 'mineral water': 6, 'salmon': 3, 'antioxidant juice': 1, 'frozen smoothie': 1, 'spinach': 1, 'olive oil': 1, 'burgers': 2, 'meatballs': 2, 'eggs': 5, 'chutney': 1, 'turkey': 4, 'milk': 2, 'energy bar': 1, 'whole wheat rice': 1, 'whole wheat pasta': 1, 'french fries': 3, 'soup': 1, 'light cream': 1, 'shallot': 1, 'frozen vegetables': 1, 'spaghetti': 3, 'pet food': 1, 'cookies': 2, 'cooking oil': 2, 'champagne': 1, 'chocolate': 1, 'chicken': 2, 'oil': 1, 'fresh tuna': 1, 'tomatoes': 1, 'black tea': 1, 'extra dark chocolate': 1, 'protein bar': 1}\n"
     ]
    }
   ],
   "source": [
    "frequency_dict = {}  # creating the empty dictionary\n",
    "frequency=0\n",
    "\n",
    "for transaction in transaction_data: # looping over each transaction\n",
    "#    print(transaction)\n",
    "    for item in transaction:         # looping over each item present in the transaction\n",
    "#        print(item,end=\" \")\n",
    "        if item in frequency_dict:\n",
    "            frequency_dict[item] += 1\n",
    "#            print(\"  Item present  \",frequency_dict ) # increment the frequency by 1 if the item is found in the dictionary\n",
    "        else:\n",
    "            frequency_dict[item] = 1    # create a new key with the item name if the item is found for the first time\n",
    "#            print(\"  Item not present \" )\n",
    "    \n",
    "print(frequency_dict)"
   ]
  },
  {
   "cell_type": "code",
   "execution_count": 9,
   "metadata": {},
   "outputs": [
    {
     "ename": "IndentationError",
     "evalue": "unindent does not match any outer indentation level (<tokenize>, line 8)",
     "output_type": "error",
     "traceback": [
      "\u001b[1;36m  File \u001b[1;32m<tokenize>:8\u001b[1;36m\u001b[0m\n\u001b[1;33m    print(freq)\u001b[0m\n\u001b[1;37m    ^\u001b[0m\n\u001b[1;31mIndentationError\u001b[0m\u001b[1;31m:\u001b[0m unindent does not match any outer indentation level\n"
     ]
    }
   ],
   "source": [
    "def CountFreq(li):\n",
    "    freq = {}\n",
    "    for item in li:\n",
    "        if (item in freq):\n",
    "            freq[item] += 1\n",
    "        else:\n",
    "            freq[item] = 1\n",
    "     print(freq) \n",
    "li =[1, 1, 3, 2, 6, 5, 3, 1, 3, 3, 1, 4, 6, 4, 4, 2, 2, 2, 2]\n",
    "CountFreq(li)"
   ]
  },
  {
   "cell_type": "code",
   "execution_count": 10,
   "metadata": {},
   "outputs": [
    {
     "ename": "NameError",
     "evalue": "name 'names' is not defined",
     "output_type": "error",
     "traceback": [
      "\u001b[1;31m---------------------------------------------------------------------------\u001b[0m",
      "\u001b[1;31mNameError\u001b[0m                                 Traceback (most recent call last)",
      "Input \u001b[1;32mIn [10]\u001b[0m, in \u001b[0;36m<cell line: 6>\u001b[1;34m()\u001b[0m\n\u001b[0;32m      1\u001b[0m \u001b[38;5;66;03m# \"honey\",\"pet food\",\"shrimp\"\u001b[39;00m\n\u001b[0;32m      2\u001b[0m \u001b[38;5;66;03m#new_transaction=[\"honey\",\"pet food\",\"shrimp\"]\u001b[39;00m\n\u001b[0;32m      3\u001b[0m \n\u001b[0;32m      4\u001b[0m \u001b[38;5;66;03m#print(list(new_transaction))\u001b[39;00m\n\u001b[0;32m      5\u001b[0m new_list \u001b[38;5;241m=\u001b[39m []\n\u001b[1;32m----> 6\u001b[0m \u001b[38;5;28;01mfor\u001b[39;00m n \u001b[38;5;129;01min\u001b[39;00m \u001b[43mnames\u001b[49m:\n\u001b[0;32m      7\u001b[0m     new_list\u001b[38;5;241m.\u001b[39mappend(n)\n\u001b[0;32m      9\u001b[0m new_list\n",
      "\u001b[1;31mNameError\u001b[0m: name 'names' is not defined"
     ]
    }
   ],
   "source": [
    "# \"honey\",\"pet food\",\"shrimp\"\n",
    "#new_transaction=[\"honey\",\"pet food\",\"shrimp\"]\n",
    "\n",
    "#print(list(new_transaction))\n",
    "new_list = []\n",
    "for n in names:\n",
    "    new_list.append(n)\n",
    "\n",
    "new_list\n",
    "\n",
    "\n",
    "   \n"
   ]
  },
  {
   "cell_type": "code",
   "execution_count": 7,
   "metadata": {},
   "outputs": [
    {
     "name": "stdout",
     "output_type": "stream",
     "text": [
      "[['shrimp', 'almonds', 'avocado', 'vegetables mix', 'green grapes', 'whole wheat flour', 'yams', 'cottage cheese', 'energy drink', 'tomato juice', 'low fat yogurt', 'green tea', 'honey', 'salad', 'mineral water', 'salmon', 'antioxidant juice', 'frozen smoothie', 'spinach', 'olive oil'], ['burgers', 'meatballs', 'eggs'], ['chutney'], ['turkey', 'avocado'], ['mineral water', 'milk', 'energy bar', 'whole wheat rice', 'green tea'], ['low fat yogurt'], ['whole wheat pasta', 'french fries'], ['soup', 'light cream', 'shallot'], ['frozen vegetables', 'spaghetti', 'green tea'], ['french fries'], ['eggs', 'pet food'], ['cookies'], ['turkey', 'burgers', 'mineral water', 'eggs', 'cooking oil'], ['spaghetti', 'champagne', 'cookies'], ['mineral water', 'salmon'], ['mineral water'], ['shrimp', 'chocolate', 'chicken', 'honey', 'oil', 'cooking oil', 'low fat yogurt'], ['turkey', 'eggs'], ['turkey', 'fresh tuna', 'tomatoes', 'spaghetti', 'mineral water', 'black tea', 'salmon', 'eggs', 'chicken', 'extra dark chocolate'], ['meatballs', 'milk', 'honey', 'french fries', 'protein bar'], ['honey', 'pet food', 'shrimp']]\n",
      "{'shrimp': 3, 'almonds': 1, 'avocado': 2, 'vegetables mix': 1, 'green grapes': 1, 'whole wheat flour': 1, 'yams': 1, 'cottage cheese': 1, 'energy drink': 1, 'tomato juice': 1, 'low fat yogurt': 3, 'green tea': 3, 'honey': 4, 'salad': 1, 'mineral water': 6, 'salmon': 3, 'antioxidant juice': 1, 'frozen smoothie': 1, 'spinach': 1, 'olive oil': 1, 'burgers': 2, 'meatballs': 2, 'eggs': 5, 'chutney': 1, 'turkey': 4, 'milk': 2, 'energy bar': 1, 'whole wheat rice': 1, 'whole wheat pasta': 1, 'french fries': 3, 'soup': 1, 'light cream': 1, 'shallot': 1, 'frozen vegetables': 1, 'spaghetti': 3, 'pet food': 2, 'cookies': 2, 'cooking oil': 2, 'champagne': 1, 'chocolate': 1, 'chicken': 2, 'oil': 1, 'fresh tuna': 1, 'tomatoes': 1, 'black tea': 1, 'extra dark chocolate': 1, 'protein bar': 1}\n"
     ]
    }
   ],
   "source": [
    "new_transaction=['honey','pet food','shrimp']\n",
    "#\"honey\",\"pet food\",\"shrimp\"\n",
    "#import ast\n",
    "#new_transaction=ast.literal_eval(input())\n",
    "new_txn_list=list(new_transaction)\n",
    "#print(new_list)\n",
    "transaction_data.append(new_txn_list)\n",
    "print(transaction_data)\n",
    "\n",
    "\n",
    "frequency_dict = {}  # creating the empty dictionary\n",
    "frequency=0\n",
    "\n",
    "for transaction in transaction_data: # looping over each transaction\n",
    "#    print(transaction)\n",
    "    for item in transaction:         # looping over each item present in the transaction\n",
    "#        print(item,end=\" \")\n",
    "        if item in frequency_dict:\n",
    "            frequency_dict[item] += 1\n",
    "#            print(\"  Item present  \",frequency_dict ) # increment the frequency by 1 if the item is found in the dictionary\n",
    "        else:\n",
    "            frequency_dict[item] = 1    # create a new key with the item name if the item is found for the first time\n",
    "#            print(\"  Item not present \" )\n",
    "    \n",
    "print(frequency_dict)\n"
   ]
  },
  {
   "cell_type": "code",
   "execution_count": 16,
   "metadata": {},
   "outputs": [
    {
     "data": {
      "text/plain": [
       "['honey', 'pet food', 'shrimp']"
      ]
     },
     "execution_count": 16,
     "metadata": {},
     "output_type": "execute_result"
    }
   ],
   "source": [
    "transaction_data.pop()"
   ]
  },
  {
   "cell_type": "code",
   "execution_count": 4,
   "metadata": {},
   "outputs": [
    {
     "name": "stdout",
     "output_type": "stream",
     "text": [
      "{'shrimp': 2, 'almonds': 1, 'avocado': 2, 'vegetables mix': 1, 'green grapes': 1, 'whole wheat flour': 1, 'yams': 1, 'cottage cheese': 1, 'energy drink': 1, 'tomato juice': 1, 'low fat yogurt': 3, 'green tea': 3, 'honey': 3, 'salad': 1, 'mineral water': 6, 'salmon': 3, 'antioxidant juice': 1, 'frozen smoothie': 1, 'spinach': 1, 'olive oil': 1, 'burgers': 2, 'meatballs': 2, 'eggs': 5, 'chutney': 1, 'turkey': 4, 'milk': 2, 'energy bar': 1, 'whole wheat rice': 1, 'whole wheat pasta': 1, 'french fries': 3, 'soup': 1, 'light cream': 1, 'shallot': 1, 'frozen vegetables': 1, 'spaghetti': 3, 'pet food': 1, 'cookies': 2, 'cooking oil': 2, 'champagne': 1, 'chocolate': 1, 'chicken': 2, 'oil': 1, 'fresh tuna': 1, 'tomatoes': 1, 'black tea': 1, 'extra dark chocolate': 1, 'protein bar': 1}\n"
     ]
    }
   ],
   "source": [
    "frequency_dict = {}  # creating the empty dictionary\n",
    "frequency=0\n",
    "\n",
    "def update_counter (): \n",
    "    for transaction in transaction_data: # looping over each transaction\n",
    "#    print(transaction)\n",
    "        for item in transaction:         # looping over each item present in the transaction\n",
    "#        print(item,end=\" \")\n",
    "            if item in frequency_dict:\n",
    "                frequency_dict[item] += 1\n",
    "#            print(\"  Item present  \",frequency_dict ) # increment the frequency by 1 if the item is found in the dictionary\n",
    "            else:\n",
    "                frequency_dict[item] = 1    # create a new key with the item name if the item is found for the first time\n",
    "#            print(\"  Item not present \" )\n",
    "update_counter()     \n",
    "print(frequency_dict)"
   ]
  },
  {
   "cell_type": "code",
   "execution_count": 5,
   "metadata": {},
   "outputs": [
    {
     "name": "stdout",
     "output_type": "stream",
     "text": [
      "v [2, 1, 2, 1, 1, 1, 1, 1, 1, 1, 3, 3, 3, 1, 6, 3, 1, 1, 1, 1, 2, 2, 5, 1, 4, 2, 1, 1, 1, 3, 1, 1, 1, 1, 3, 1, 2, 2, 1, 1, 2, 1, 1, 1, 1, 1, 1]\n",
      "k ['shrimp', 'almonds', 'avocado', 'vegetables mix', 'green grapes', 'whole wheat flour', 'yams', 'cottage cheese', 'energy drink', 'tomato juice', 'low fat yogurt', 'green tea', 'honey', 'salad', 'mineral water', 'salmon', 'antioxidant juice', 'frozen smoothie', 'spinach', 'olive oil', 'burgers', 'meatballs', 'eggs', 'chutney', 'turkey', 'milk', 'energy bar', 'whole wheat rice', 'whole wheat pasta', 'french fries', 'soup', 'light cream', 'shallot', 'frozen vegetables', 'spaghetti', 'pet food', 'cookies', 'cooking oil', 'champagne', 'chocolate', 'chicken', 'oil', 'fresh tuna', 'tomatoes', 'black tea', 'extra dark chocolate', 'protein bar']\n",
      "max v 6\n",
      "v.index  14\n",
      " mineral water is top-selling item. Total 6 sold\n"
     ]
    }
   ],
   "source": [
    "# Dictionary Initialization\n",
    "#for item in frequency_dict.items():\n",
    "#    print(item)\n",
    "    \n",
    "# taking list of values in v\n",
    "v = list(frequency_dict.values())\n",
    "#print(len(v))\n",
    "# taking list of keys in k\n",
    "k = list(frequency_dict.keys())\n",
    "#print(len(k))\n",
    "# taking max of top-selling key in m\n",
    "print (\"v\" ,v)\n",
    "print (\"k\" ,k)\n",
    "print(\"max v\" ,max(v))\n",
    "print(\"v.index \" ,v.index(max(v)))\n",
    "m=k[v.index(max(v))]\n",
    "print(' {0} is top-selling item. Total {1} sold'.format(m,frequency_dict[m]))\n",
    "\n",
    "\n",
    "## what if there are 2 top selling item\n"
   ]
  },
  {
   "cell_type": "code",
   "execution_count": 21,
   "metadata": {},
   "outputs": [
    {
     "data": {
      "text/plain": [
       "'mineral water'"
      ]
     },
     "execution_count": 21,
     "metadata": {},
     "output_type": "execute_result"
    }
   ],
   "source": [
    "sorted_inventory_dict = {k: v for k, v in sorted(frequency_dict.items(), key=lambda item: item[1], reverse=True)}\n",
    "list(sorted_inventory_dict)[0]"
   ]
  },
  {
   "cell_type": "code",
   "execution_count": 14,
   "metadata": {},
   "outputs": [
    {
     "name": "stdout",
     "output_type": "stream",
     "text": [
      "dict_values([3, 1, 2, 1, 1, 1, 1, 1, 1, 1, 3, 3, 4, 1, 6, 3, 1, 1, 1, 1, 2, 2, 5, 1, 4, 2, 1, 1, 1, 3, 1, 1, 1, 1, 3, 2, 2, 2, 1, 1, 2, 1, 1, 1, 1, 1, 1]) 47\n"
     ]
    }
   ],
   "source": [
    "arr=frequency_dict.values()\n",
    "arr_len=len(frequency_dict)\n",
    "print(arr , arr_len)"
   ]
  },
  {
   "cell_type": "code",
   "execution_count": 9,
   "metadata": {
    "scrolled": false
   },
   "outputs": [
    {
     "name": "stdout",
     "output_type": "stream",
     "text": [
      "27.9 µs ± 1.53 µs per loop (mean ± std. dev. of 7 runs, 10,000 loops each)\n",
      "\n",
      " [6, 5, 4, 3, 3, 3, 3, 3, 3, 2, 2, 2, 2, 2, 2, 2, 2, 1, 1, 1, 1, 1, 1, 1, 1, 1, 1, 1, 1, 1, 1, 1, 1, 1, 1, 1, 1, 1, 1, 1, 1, 1, 1, 1, 1, 1, 1]\n",
      "\n",
      " ['mineral water', 'eggs', 'turkey', 'low fat yogurt', 'green tea', 'honey', 'salmon', 'french fries', 'spaghetti', 'shrimp', 'avocado', 'burgers', 'meatballs', 'milk', 'cookies', 'cooking oil', 'chicken', 'almonds', 'vegetables mix', 'green grapes', 'whole wheat flour', 'yams', 'cottage cheese', 'energy drink', 'tomato juice', 'salad', 'antioxidant juice', 'frozen smoothie', 'spinach', 'olive oil', 'chutney', 'energy bar', 'whole wheat rice', 'whole wheat pasta', 'soup', 'light cream', 'shallot', 'frozen vegetables', 'pet food', 'champagne', 'chocolate', 'oil', 'fresh tuna', 'tomatoes', 'black tea', 'extra dark chocolate', 'protein bar']\n",
      "\n",
      " {'mineral water': 6, 'eggs': 5, 'turkey': 4, 'low fat yogurt': 3, 'green tea': 3, 'honey': 3, 'salmon': 3, 'french fries': 3, 'spaghetti': 3, 'shrimp': 2, 'avocado': 2, 'burgers': 2, 'meatballs': 2, 'milk': 2, 'cookies': 2, 'cooking oil': 2, 'chicken': 2, 'almonds': 1, 'vegetables mix': 1, 'green grapes': 1, 'whole wheat flour': 1, 'yams': 1, 'cottage cheese': 1, 'energy drink': 1, 'tomato juice': 1, 'salad': 1, 'antioxidant juice': 1, 'frozen smoothie': 1, 'spinach': 1, 'olive oil': 1, 'chutney': 1, 'energy bar': 1, 'whole wheat rice': 1, 'whole wheat pasta': 1, 'soup': 1, 'light cream': 1, 'shallot': 1, 'frozen vegetables': 1, 'pet food': 1, 'champagne': 1, 'chocolate': 1, 'oil': 1, 'fresh tuna': 1, 'tomatoes': 1, 'black tea': 1, 'extra dark chocolate': 1, 'protein bar': 1}\n",
      "Milliseconds since epoch: 1668944971070\n"
     ]
    }
   ],
   "source": [
    "import time\n",
    "obj = time.gmtime(0)\n",
    "epoch = time.asctime(obj)\n",
    "\n",
    "# Function to do insertion sort\n",
    "def insertionSort(v,k):\n",
    "    # Traverse through 1 to len(arr)\n",
    "    for i in range(1, len(v)):\n",
    "        key = v[i]\n",
    "        key2 = k[i]\n",
    "        # Move elements of arr[0..i-1], that are\n",
    "        # greater than key, to one position ahead\n",
    "        # of their current position\n",
    "        j = i-1\n",
    "#        while j >= 0 and key < v[j] : #for ascending order \n",
    "        while j >= 0 and v[j] < key : #for descending order\n",
    "                v[j + 1] = v[j]\n",
    "                k[j + 1] = k[j]\n",
    "                j -= 1\n",
    "        v[j + 1] = key\n",
    "        k[j + 1] = key2\n",
    "#       print(\"key\", key)\n",
    "# Driver code to test above\n",
    "%timeit insertionSort(v,k)\n",
    "\n",
    "print (\"\\n\",v)\n",
    "print (\"\\n\",k)\n",
    "sorted_frequency_dict = list(zip(k, v))\n",
    "print(\"\\n\",dict(sorted_frequency_dict)) \n",
    "\n",
    "curr_time = round(time.time()*1000)\n",
    "print(\"Milliseconds since epoch:\",curr_time)\n",
    "\n",
    "#new_freq_dict={}\n",
    "#for i in range(0,len(v)):\n",
    "\n",
    "#coverted_k = dict(k)\n",
    "#dict3 = {**coverted_v, **coverted_k}\n",
    "#print(coverted_k)"
   ]
  },
  {
   "cell_type": "code",
   "execution_count": 13,
   "metadata": {},
   "outputs": [
    {
     "name": "stdout",
     "output_type": "stream",
     "text": [
      "\n",
      " [3, 1, 2, 1, 1, 1, 1, 1, 1, 1, 3, 3, 4, 1, 6, 3, 1, 1, 1, 1, 2, 2, 5, 1, 4, 2, 1, 1, 1, 3, 1, 1, 1, 1, 3, 2, 2, 2, 1, 1, 2, 1, 1, 1, 1, 1, 1]\n",
      "\n",
      " ['shrimp', 'almonds', 'avocado', 'vegetables mix', 'green grapes', 'whole wheat flour', 'yams', 'cottage cheese', 'energy drink', 'tomato juice', 'low fat yogurt', 'green tea', 'honey', 'salad', 'mineral water', 'salmon', 'antioxidant juice', 'frozen smoothie', 'spinach', 'olive oil', 'burgers', 'meatballs', 'eggs', 'chutney', 'turkey', 'milk', 'energy bar', 'whole wheat rice', 'whole wheat pasta', 'french fries', 'soup', 'light cream', 'shallot', 'frozen vegetables', 'spaghetti', 'pet food', 'cookies', 'cooking oil', 'champagne', 'chocolate', 'chicken', 'oil', 'fresh tuna', 'tomatoes', 'black tea', 'extra dark chocolate', 'protein bar']\n",
      "544 µs ± 97.5 µs per loop (mean ± std. dev. of 7 runs, 1,000 loops each)\n",
      "\n",
      " [1, 1, 1, 1, 1, 1, 1, 1, 1, 1, 1, 1, 1, 1, 1, 1, 1, 1, 1, 1, 1, 1, 1, 1, 1, 1, 1, 1, 1, 2, 2, 2, 2, 2, 2, 2, 2, 3, 3, 3, 3, 3, 3, 4, 4, 5, 6]\n",
      "\n",
      " ['protein bar', 'extra dark chocolate', 'black tea', 'tomatoes', 'fresh tuna', 'oil', 'chocolate', 'champagne', 'frozen vegetables', 'shallot', 'light cream', 'soup', 'whole wheat pasta', 'whole wheat rice', 'energy bar', 'chutney', 'olive oil', 'spinach', 'frozen smoothie', 'antioxidant juice', 'salad', 'tomato juice', 'energy drink', 'cottage cheese', 'yams', 'whole wheat flour', 'green grapes', 'vegetables mix', 'almonds', 'chicken', 'cooking oil', 'cookies', 'pet food', 'milk', 'meatballs', 'burgers', 'avocado', 'spaghetti', 'french fries', 'salmon', 'green tea', 'low fat yogurt', 'shrimp', 'turkey', 'honey', 'eggs', 'mineral water']\n",
      "\n",
      " Best Seller \n",
      " {'protein bar': 1, 'extra dark chocolate': 1, 'black tea': 1, 'tomatoes': 1, 'fresh tuna': 1, 'oil': 1, 'chocolate': 1, 'champagne': 1, 'frozen vegetables': 1, 'shallot': 1, 'light cream': 1, 'soup': 1, 'whole wheat pasta': 1, 'whole wheat rice': 1, 'energy bar': 1, 'chutney': 1, 'olive oil': 1, 'spinach': 1, 'frozen smoothie': 1, 'antioxidant juice': 1, 'salad': 1, 'tomato juice': 1, 'energy drink': 1, 'cottage cheese': 1, 'yams': 1, 'whole wheat flour': 1, 'green grapes': 1, 'vegetables mix': 1, 'almonds': 1, 'chicken': 2, 'cooking oil': 2, 'cookies': 2, 'pet food': 2, 'milk': 2, 'meatballs': 2, 'burgers': 2, 'avocado': 2, 'spaghetti': 3, 'french fries': 3, 'salmon': 3, 'green tea': 3, 'low fat yogurt': 3, 'shrimp': 3, 'turkey': 4, 'honey': 4, 'eggs': 5, 'mineral water': 6}\n"
     ]
    }
   ],
   "source": [
    "def mergeSort(v,k):\n",
    "    if len(v) > 1:\n",
    "        # Finding the mid of the array\n",
    "        mid = len(v)//2\n",
    "        # Dividing the array elements\n",
    "        Left_of_v = v[:mid]\n",
    "        Left_of_k = k[:mid]\n",
    "        # into 2 halves\n",
    "        Right_of_v = v[mid:]\n",
    "        Right_of_k = k[mid:]\n",
    "        # Sorting the first half\n",
    "        mergeSort(Left_of_v,Left_of_k)\n",
    "        # Sorting the second half\n",
    "        mergeSort(Right_of_v,Right_of_k)\n",
    "        a = b = c = 0\n",
    "    # Traverse through 1 to len(arr)\n",
    "        # Copy data to temp arrays L[] and R[]\n",
    "        while a < len(Left_of_v) and b < len(Right_of_v):\n",
    "#        while b < len(Left_of_v) and a < len(Right_of_v):\n",
    "            if Left_of_v[a] < Right_of_v[b]:\n",
    "#            if Right_of_v[b] < Left_of_v[a] :\n",
    "                v[c] = Left_of_v[a]\n",
    "                k[c] = Left_of_k[a]\n",
    "                a += 1\n",
    "            else:\n",
    "                v[c] = Right_of_v[b]\n",
    "                k[c] = Right_of_k[b]\n",
    "                b += 1\n",
    "            c += 1\n",
    "        \n",
    "        # Checking if any element was left\n",
    "        while a < len(Left_of_v):        \n",
    "#        while len(Left_of_v) < a:\n",
    "            v[c] = Left_of_v[a]\n",
    "            k[c] = Left_of_k[a]\n",
    "            a += 1\n",
    "            c += 1\n",
    "\n",
    "        while b < len(Right_of_v):    \n",
    "#        while len(Right_of_v) < b:\n",
    "            v[c] = Right_of_v[b]\n",
    "            k[c] = Right_of_k[b]\n",
    "            b += 1\n",
    "            c += 1\n",
    "        \n",
    "#       print(\"key\", key)\n",
    "# Driver code to test above\n",
    "v=[3, 1, 2, 1, 1, 1, 1, 1, 1, 1, 3, 3, 4, 1, 6, 3, 1, 1, 1, 1, 2, 2, 5, 1, 4, 2, 1, 1, 1, 3, 1, 1, 1, 1, 3, 2, 2, 2, 1, 1, 2, 1, 1, 1, 1, 1, 1]\n",
    "print (\"\\n\",v)\n",
    "k=['shrimp', 'almonds', 'avocado', 'vegetables mix', 'green grapes', 'whole wheat flour', 'yams', 'cottage cheese', 'energy drink', 'tomato juice', 'low fat yogurt', 'green tea', 'honey', 'salad', 'mineral water', 'salmon', 'antioxidant juice', 'frozen smoothie', 'spinach', 'olive oil', 'burgers', 'meatballs', 'eggs', 'chutney', 'turkey', 'milk', 'energy bar', 'whole wheat rice', 'whole wheat pasta', 'french fries', 'soup', 'light cream', 'shallot', 'frozen vegetables', 'spaghetti', 'pet food', 'cookies', 'cooking oil', 'champagne', 'chocolate', 'chicken', 'oil', 'fresh tuna', 'tomatoes', 'black tea', 'extra dark chocolate', 'protein bar']\n",
    "print (\"\\n\",k)\n",
    "#print (\"\\n\",k)\n",
    "#sorted_frequency_dict = list(zip(k, v))\n",
    "#print(\"\\n Best Seller \\n\",sorted_frequency_dict[1])\n",
    "%timeit mergeSort(v,k)\n",
    "print (\"\\n\",v)\n",
    "print (\"\\n\",k)\n",
    "sorted_frequency_dict = list(zip(k, v))\n",
    "print(\"\\n Best Seller \\n\",dict(sorted_frequency_dict))\n"
   ]
  },
  {
   "cell_type": "code",
   "execution_count": 23,
   "metadata": {},
   "outputs": [
    {
     "name": "stdout",
     "output_type": "stream",
     "text": [
      "[3, 1, 2, 1, 1, 1, 1, 1, 1, 1, 3, 3, 4, 1, 6, 3, 1, 1, 1, 1, 2, 2, 5, 1, 4, 2, 1, 1, 1, 3, 1, 1, 1, 1, 3, 2, 2, 2, 1, 1, 2, 1, 1, 1, 1, 1, 1]\n",
      "['shrimp', 'almonds', 'avocado', 'vegetables mix', 'green grapes', 'whole wheat flour', 'yams', 'cottage cheese', 'energy drink', 'tomato juice', 'low fat yogurt', 'green tea', 'honey', 'salad', 'mineral water', 'salmon', 'antioxidant juice', 'frozen smoothie', 'spinach', 'olive oil', 'burgers', 'meatballs', 'eggs', 'chutney', 'turkey', 'milk', 'energy bar', 'whole wheat rice', 'whole wheat pasta', 'french fries', 'soup', 'light cream', 'shallot', 'frozen vegetables', 'spaghetti', 'pet food', 'cookies', 'cooking oil', 'champagne', 'chocolate', 'chicken', 'oil', 'fresh tuna', 'tomatoes', 'black tea', 'extra dark chocolate', 'protein bar']\n"
     ]
    }
   ],
   "source": [
    "v=[3, 1, 2, 1, 1, 1, 1, 1, 1, 1, 3, 3, 4, 1, 6, 3, 1, 1, 1, 1, 2, 2, 5, 1, 4, 2, 1, 1, 1, 3, 1, 1, 1, 1, 3, 2, 2, 2, 1, 1, 2, 1, 1, 1, 1, 1, 1]\n",
    "print(v)\n",
    "k=['shrimp', 'almonds', 'avocado', 'vegetables mix', 'green grapes', 'whole wheat flour', 'yams', 'cottage cheese', 'energy drink', 'tomato juice', 'low fat yogurt', 'green tea', 'honey', 'salad', 'mineral water', 'salmon', 'antioxidant juice', 'frozen smoothie', 'spinach', 'olive oil', 'burgers', 'meatballs', 'eggs', 'chutney', 'turkey', 'milk', 'energy bar', 'whole wheat rice', 'whole wheat pasta', 'french fries', 'soup', 'light cream', 'shallot', 'frozen vegetables', 'spaghetti', 'pet food', 'cookies', 'cooking oil', 'champagne', 'chocolate', 'chicken', 'oil', 'fresh tuna', 'tomatoes', 'black tea', 'extra dark chocolate', 'protein bar']\n",
    "print(k)\n"
   ]
  },
  {
   "cell_type": "code",
   "execution_count": 25,
   "metadata": {},
   "outputs": [
    {
     "name": "stdout",
     "output_type": "stream",
     "text": [
      "188 µs ± 10.4 µs per loop (mean ± std. dev. of 7 runs, 10,000 loops each)\n",
      "\n",
      " [6, 5, 4, 4, 3, 3, 3, 3, 3, 3, 2, 2, 2, 2, 2, 2, 2, 2, 1, 1, 1, 1, 1, 1, 1, 1, 1, 1, 1, 1, 1, 1, 1, 1, 1, 1, 1, 1, 1, 1, 1, 1, 1, 1, 1, 1, 1]\n",
      "\n",
      " ['mineral water', 'eggs', 'honey', 'turkey', 'low fat yogurt', 'green tea', 'shrimp', 'salmon', 'french fries', 'spaghetti', 'avocado', 'burgers', 'meatballs', 'milk', 'pet food', 'cookies', 'cooking oil', 'chicken', 'spinach', 'olive oil', 'whole wheat flour', 'green grapes', 'almonds', 'chutney', 'vegetables mix', 'salad', 'energy bar', 'whole wheat rice', 'whole wheat pasta', 'energy drink', 'soup', 'light cream', 'shallot', 'frozen vegetables', 'tomato juice', 'yams', 'cottage cheese', 'antioxidant juice', 'champagne', 'chocolate', 'frozen smoothie', 'oil', 'fresh tuna', 'tomatoes', 'black tea', 'extra dark chocolate', 'protein bar']\n",
      "\n",
      " Best Seller \n",
      " {'mineral water': 6, 'eggs': 5, 'honey': 4, 'turkey': 4, 'low fat yogurt': 3, 'green tea': 3, 'shrimp': 3, 'salmon': 3, 'french fries': 3, 'spaghetti': 3, 'avocado': 2, 'burgers': 2, 'meatballs': 2, 'milk': 2, 'pet food': 2, 'cookies': 2, 'cooking oil': 2, 'chicken': 2, 'spinach': 1, 'olive oil': 1, 'whole wheat flour': 1, 'green grapes': 1, 'almonds': 1, 'chutney': 1, 'vegetables mix': 1, 'salad': 1, 'energy bar': 1, 'whole wheat rice': 1, 'whole wheat pasta': 1, 'energy drink': 1, 'soup': 1, 'light cream': 1, 'shallot': 1, 'frozen vegetables': 1, 'tomato juice': 1, 'yams': 1, 'cottage cheese': 1, 'antioxidant juice': 1, 'champagne': 1, 'chocolate': 1, 'frozen smoothie': 1, 'oil': 1, 'fresh tuna': 1, 'tomatoes': 1, 'black tea': 1, 'extra dark chocolate': 1, 'protein bar': 1}\n"
     ]
    }
   ],
   "source": [
    "def SelectionSort(v,k): \n",
    "# Traverse through all array elements\n",
    "    for i in range(len(v)):\n",
    "    # Find the minimum element in remaining\n",
    "    # unsorted array\n",
    "#        print(\"i \",i )\n",
    "        min_idx = i\n",
    "#        print(\"min_idx is \", min_idx)\n",
    "        for j in range(i+1, len(v)):\n",
    "#            print(\"j \",j)\n",
    "##            if v[min_idx] > v[j]:\n",
    "              if v[j] > v[min_idx]:  \n",
    "#                print(\"v minidx \",v[min_idx])\n",
    "#                print(\"v j \",v[j])\n",
    "                min_idx = j\n",
    "#                print(\"mi j\",min_idx)\n",
    "# Swap the found minimum element with\n",
    "# the first element       \n",
    "        v[i], v[min_idx] = v[min_idx],v[i]\n",
    "        k[i], k[min_idx] = k[min_idx],k[i]\n",
    "#        print(\"swap vi \",v[i])\n",
    "#        print(\"swap vmin_idx \",v[min_idx])\n",
    "        \n",
    "\n",
    "    \n",
    "%timeit SelectionSort(v,k)\n",
    "# Driver code to test above\n",
    "print (\"\\n\",v)\n",
    "print (\"\\n\",k)\n",
    "sorted_frequency_dict = list(zip(k, v))\n",
    "print(\"\\n Best Seller \\n\",dict(sorted_frequency_dict))\n",
    "\n",
    "# Selection Sort took :-  190 µs ± 8.7 µs per loop (mean ± std. dev. of 7 runs, 1,000 loops each)"
   ]
  },
  {
   "cell_type": "markdown",
   "metadata": {},
   "source": [
    "# 1. Insertion \n",
    "# 2. Selection \n",
    "# 3. Merger"
   ]
  },
  {
   "cell_type": "code",
   "execution_count": null,
   "metadata": {},
   "outputs": [],
   "source": []
  },
  {
   "cell_type": "code",
   "execution_count": null,
   "metadata": {},
   "outputs": [],
   "source": []
  },
  {
   "cell_type": "code",
   "execution_count": null,
   "metadata": {},
   "outputs": [],
   "source": []
  },
  {
   "cell_type": "code",
   "execution_count": null,
   "metadata": {},
   "outputs": [],
   "source": []
  },
  {
   "cell_type": "code",
   "execution_count": null,
   "metadata": {},
   "outputs": [],
   "source": []
  },
  {
   "cell_type": "code",
   "execution_count": null,
   "metadata": {},
   "outputs": [],
   "source": []
  },
  {
   "cell_type": "code",
   "execution_count": null,
   "metadata": {},
   "outputs": [],
   "source": []
  },
  {
   "cell_type": "code",
   "execution_count": null,
   "metadata": {},
   "outputs": [],
   "source": []
  },
  {
   "cell_type": "code",
   "execution_count": null,
   "metadata": {},
   "outputs": [],
   "source": []
  }
 ],
 "metadata": {
  "colab": {
   "name": "Data.ipynb",
   "provenance": []
  },
  "kernelspec": {
   "display_name": "Python 3 (ipykernel)",
   "language": "python",
   "name": "python3"
  },
  "language_info": {
   "codemirror_mode": {
    "name": "ipython",
    "version": 3
   },
   "file_extension": ".py",
   "mimetype": "text/x-python",
   "name": "python",
   "nbconvert_exporter": "python",
   "pygments_lexer": "ipython3",
   "version": "3.9.12"
  }
 },
 "nbformat": 4,
 "nbformat_minor": 1
}
