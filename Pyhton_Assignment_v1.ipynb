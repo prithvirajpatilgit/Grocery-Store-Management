{
 "cells": [
  {
   "cell_type": "markdown",
   "id": "8e10fe5d",
   "metadata": {},
   "source": [
    "# Python Assignment - Module 6 -  Submission Prithviraj Patil"
   ]
  },
  {
   "cell_type": "markdown",
   "id": "d18c44d4",
   "metadata": {},
   "source": [
    "# Task is to create a function that lets the admin add or remove items from the store directory(Cost dictionary)"
   ]
  },
  {
   "cell_type": "markdown",
   "id": "cba70328",
   "metadata": {},
   "source": [
    "# Understanding the Data\n",
    "# You have two types of data available. The first is price data, which is available in a Python data structure called a dictionary. This dictionary has been named item_dict, and it stores the price of each item that is available in the store. The second is the Transaction data, which is available as an array of arrays. Each row corresponds to one transaction. "
   ]
  },
  {
   "cell_type": "code",
   "execution_count": 1,
   "id": "427d22e0",
   "metadata": {},
   "outputs": [],
   "source": [
    "# Price Data\n",
    "item_dict = {'almonds': 6,\n",
    " 'antioxidant juice': 9,\n",
    " 'avocado': 1,\n",
    " 'black tea': 4,\n",
    " 'burgers': 4,\n",
    " 'champagne': 3,\n",
    " 'chicken': 4,\n",
    " 'chocolate': 7,\n",
    " 'chutney': 7,\n",
    " 'cookies': 7,\n",
    " 'cooking oil': 7,\n",
    " 'cottage cheese': 9,\n",
    " 'eggs': 9,\n",
    " 'energy bar': 9,\n",
    " 'energy drink': 3,\n",
    " 'extra dark chocolate': 8,\n",
    " 'french fries': 7,\n",
    " 'fresh tuna': 9,\n",
    " 'frozen smoothie': 7,\n",
    " 'frozen vegetables': 2,\n",
    " 'green grapes': 8,\n",
    " 'green tea': 8,\n",
    " 'honey': 9,\n",
    " 'light cream': 5,\n",
    " 'low fat yogurt': 4,\n",
    " 'meatballs': 9,\n",
    " 'milk': 5,\n",
    " 'mineral water': 2,\n",
    " 'oil': 9,\n",
    " 'olive oil': 8,\n",
    " 'pet food': 3,\n",
    " 'protein bar': 1,\n",
    " 'salad': 7,\n",
    " 'salmon': 3,\n",
    " 'shallot': 6,\n",
    " 'shrimp': 2,\n",
    " 'soup': 2,\n",
    " 'spaghetti': 6,\n",
    " 'spinach': 7,\n",
    " 'tomato juice': 8,\n",
    " 'tomatoes': 5,\n",
    " 'turkey': 8,\n",
    " 'vegetables mix': 3,\n",
    " 'whole wheat flour': 5,\n",
    " 'whole wheat pasta': 5,\n",
    " 'whole wheat rice': 4,\n",
    " 'yams': 7}\n",
    "\n",
    "# transaction data\n",
    "transaction_data = \\\n",
    "[['shrimp', 'almonds', 'avocado', 'vegetables mix', 'green grapes', 'whole wheat flour', 'yams', 'cottage cheese', 'energy drink', 'tomato juice', 'low fat yogurt', 'green tea', 'honey', 'salad', 'mineral water', 'salmon', 'antioxidant juice', 'frozen smoothie', 'spinach', 'olive oil'],\n",
    "['burgers', 'meatballs', 'eggs'],\n",
    "['chutney'],\n",
    "['turkey', 'avocado'],\n",
    "['mineral water', 'milk', 'energy bar', 'whole wheat rice', 'green tea'],\n",
    "['low fat yogurt'],\n",
    "['whole wheat pasta', 'french fries'],\n",
    "['soup', 'light cream', 'shallot'],\n",
    "['frozen vegetables', 'spaghetti', 'green tea'],\n",
    "['french fries'],\n",
    "['eggs', 'pet food'],\n",
    "['cookies'],\n",
    "['turkey', 'burgers', 'mineral water', 'eggs', 'cooking oil'],\n",
    "['spaghetti', 'champagne', 'cookies'],\n",
    "['mineral water', 'salmon'],\n",
    "['mineral water'],\n",
    "['shrimp', 'chocolate', 'chicken', 'honey', 'oil', 'cooking oil', 'low fat yogurt'],\n",
    "['turkey', 'eggs'],\n",
    "['turkey', 'fresh tuna', 'tomatoes', 'spaghetti', 'mineral water', 'black tea', 'salmon', 'eggs', 'chicken', 'extra dark chocolate'],\n",
    "['meatballs', 'milk', 'honey', 'french fries', 'protein bar']]\n"
   ]
  },
  {
   "cell_type": "markdown",
   "id": "78da659b",
   "metadata": {},
   "source": [
    "## Q1. Based on customer demand, items keep changing in the store. Your first task is to create a function that lets the admin add or remove items from the store directory(Cost dictionary)."
   ]
  },
  {
   "cell_type": "markdown",
   "id": "98749552",
   "metadata": {},
   "source": [
    "### 1.1. Find how many unique items are present in the data?  (Hint: It will correspond to the number of key pairs in the Cost dictionary)"
   ]
  },
  {
   "cell_type": "code",
   "execution_count": 2,
   "id": "7b825331",
   "metadata": {},
   "outputs": [
    {
     "name": "stdout",
     "output_type": "stream",
     "text": [
      "Number of unique items present in price data: 47\n"
     ]
    }
   ],
   "source": [
    "#-------code begins here------- \n",
    "unique_items=len(item_dict)   # len() function returns the number of key pairs in the Cost dictionary\n",
    "print (\"Number of unique items present in price data:\", unique_items)      # Prints the unique_items"
   ]
  },
  {
   "cell_type": "markdown",
   "id": "fa383247",
   "metadata": {},
   "source": [
    "### 1.2. Find the total number of transactions?"
   ]
  },
  {
   "cell_type": "code",
   "execution_count": 3,
   "id": "e4bace63",
   "metadata": {},
   "outputs": [
    {
     "name": "stdout",
     "output_type": "stream",
     "text": [
      "Total Transactions: 20\n"
     ]
    }
   ],
   "source": [
    "#-------code begins here-------  \n",
    "Total_Transactions=len(transaction_data)    # len() function returns the number of transaction fromt the list of arrays \n",
    "print(\"Total Transactions:\",Total_Transactions)      # Print the Total_Transactions"
   ]
  },
  {
   "cell_type": "markdown",
   "id": "5954455c",
   "metadata": {},
   "source": [
    "### 1.3. Add items, try adding the item “banana” in stores. The cost of this item is 5 dollars. Add the item “banana” to the Cost dictionary. "
   ]
  },
  {
   "cell_type": "code",
   "execution_count": 4,
   "id": "2a1ba98e",
   "metadata": {},
   "outputs": [
    {
     "data": {
      "text/plain": [
       "5"
      ]
     },
     "execution_count": 4,
     "metadata": {},
     "output_type": "execute_result"
    }
   ],
   "source": [
    "#-------code begins here------- \n",
    "item_dict['banana'] = 5   #adding an item to the cost dictionary\n",
    "item_dict.get(\"banana\")   #verify item got added with get() method that returns the value of an item by using the key. \n",
    "                          #Or can also use item_dict.items() for all data"
   ]
  },
  {
   "cell_type": "markdown",
   "id": "79707922",
   "metadata": {},
   "source": [
    "### 1.4. Use a function named add_item( ) to automatically add an item to the Cost dictionary given its name and price."
   ]
  },
  {
   "cell_type": "code",
   "execution_count": 5,
   "id": "5c6fe368",
   "metadata": {},
   "outputs": [
    {
     "name": "stdout",
     "output_type": "stream",
     "text": [
      "New item \"banana\" added into stores. The cost of this item is \"$5\"\n"
     ]
    }
   ],
   "source": [
    "#print(\"Enter name of the item to be added :\")\n",
    "#item_name=input()  # variable stores user input for any given item name\n",
    "#print(\"Enter price of the item to be added  :\")\n",
    "#item_price=int(input()) # variable stores user input for corresponding price for above given item. Should be integer value\n",
    "\n",
    "# PLEASE NOTE : To receive input from user, for any given item uncomment above 4 lines\n",
    "# AND comment the hard code entries for item_name and item_price below :\n",
    "\n",
    "\n",
    "#-------code begins here------- \n",
    "item_name='banana'    # variable stores input for name of an item to be added\n",
    "item_price=5          # variable stores input for price of an item to be added \n",
    "\n",
    "def add_item():  # add_item() function automatically adds given item name and price to price data\n",
    "    item_dict[item_name] = item_price  # adds an item to cost dictionary as item_name is key and item_price is value    \n",
    "    print('New item \"{0}\" added into stores. The cost of this item is \"${1}\"'.format(item_name,item_price))\n",
    "add_item() # calling the add_item function"
   ]
  },
  {
   "cell_type": "markdown",
   "id": "17fd3b02",
   "metadata": {},
   "source": [
    "### Remove an item: for example: if the customers at Walmart do not seem to be purchasing “banana,” and the store decides to discontinue this item. The function to should be able to remove the item “banana” from the Cost dictionary\n",
    "### 1.5. Create a function called remove_item( ) to automatically remove an item from the Cost dictionary given its name."
   ]
  },
  {
   "cell_type": "code",
   "execution_count": 6,
   "id": "3ea59ac3",
   "metadata": {},
   "outputs": [
    {
     "name": "stdout",
     "output_type": "stream",
     "text": [
      "Item \"banana\" removed from the stores.\n"
     ]
    }
   ],
   "source": [
    "#print(\"Enter name of the item to be removed :\")\n",
    "#item_remove=input()  # variable stores user input for any given item name\n",
    "\n",
    "# PLEASE NOTE : To receive input from user, for any given item uncomment above 2 lines\n",
    "# AND comment the hard code entries for item_remove below :\n",
    "\n",
    "#-------code begins here------- \n",
    "item_remove='banana'     # variable stores input for an item to be removed\n",
    "\n",
    "def remove_item():       # add_item() function automatically adds given item name and price to price data\n",
    "    if item_remove in item_dict:    # check if item is in the cost dictionary to perform\n",
    "        del item_dict[item_remove]  # del() method removes an item based on a given key from cost dictionary\n",
    "        print('Item \"{0}\" removed from the stores.'.format(item_remove))\n",
    "    else:                # If the Item was already removed by another user \n",
    "        print (\"Item does not Exists\")\n",
    "remove_item() # calling the add_item function"
   ]
  },
  {
   "cell_type": "markdown",
   "id": "0a418a8c",
   "metadata": {},
   "source": [
    "## Q2. Once a customer has completed shopping, they need to be billed for the total amount of all the items. This can be done automatically by swiping each item’s barcode on a checkout system. Your second task is to build the software underlying the checkout system, which finds the total cost of all the items in a customer’s cart, including taxes:"
   ]
  },
  {
   "cell_type": "markdown",
   "id": "6b0dc0ee",
   "metadata": {},
   "source": [
    "### 2.1. Write the code, to find the price of an item from the cost dictionary\n",
    "###        Find the price of salmon from the cost dictionary"
   ]
  },
  {
   "cell_type": "code",
   "execution_count": 7,
   "id": "a7695f18",
   "metadata": {},
   "outputs": [
    {
     "name": "stdout",
     "output_type": "stream",
     "text": [
      "Cost of \"salmon\" is $3\n"
     ]
    }
   ],
   "source": [
    "#print(\"Enter name of the item to find it's cost:\")\n",
    "#item_name=input()\n",
    "#PLEASE NOTE : To receive input from user, for any given item uncomment above 2 lines\n",
    "#AND comment the hard code entries for item_name below :\n",
    "\n",
    "#-------code begins here------- \n",
    "item_name='salmon'     # variable stores input for name of an item  \n",
    "item_price=item_dict.get(item_name)  # The get() method returns the value of an item by using the key.\n",
    "                                     # If the key doesn’t exist, it returns None\n",
    "print('Cost of \"{0}\" is ${1}'.format(item_name,item_price))"
   ]
  },
  {
   "cell_type": "markdown",
   "id": "5be78cf0",
   "metadata": {},
   "source": [
    "### 2.2. Write a code that helps the administrator find any particular transaction in the sequence\n",
    "###        Try finding the ninth transaction from the data"
   ]
  },
  {
   "cell_type": "code",
   "execution_count": 8,
   "id": "cdb3a52c",
   "metadata": {},
   "outputs": [
    {
     "name": "stdout",
     "output_type": "stream",
     "text": [
      "Transaction number : 9 , List of items ['frozen vegetables', 'spaghetti', 'green tea']\n"
     ]
    }
   ],
   "source": [
    "#print(\"Enter Transaction ID :\")\n",
    "#transaction_id=int(input()) \n",
    "#PLEASE NOTE : To receive input from user, for any given nth transaction detail uncomment above 2 lines\n",
    "#AND comment the hard code entries for transaction_id below :\n",
    "\n",
    "#-------code begins here------- \n",
    "transaction_id=9       # variable stores input for 9th transaction \n",
    "total_transactions=len(transaction_data)  # Find Total number of transactions with len() function and save to variable\n",
    "nth_txn=0\n",
    "\n",
    "# Below logic finds details for any transaction if user input() is used. \n",
    "# Validate if the Transaction ID requested within range 1 and maximum number of transactions happened.\n",
    "\n",
    "if transaction_id <= 0:     # Check Transaction ID entered by user should not be negative or zero \n",
    "    print('Invalid Transaction ID {0}. Starts at 1:'.format(transaction_id))\n",
    "elif 0 < transaction_id <= total_transactions:     # Check Transaction ID is within valid range\n",
    "    for nth_txn in transaction_data :\n",
    "        nth_txn=transaction_data[transaction_id-1] # Keys starts from 0 for a given list. Store value of nth position\n",
    "    print('Transaction number : {0} , List of items {1}'.format(transaction_id,nth_txn))  # Prints value of 9th transaction as transaction_id=9   \n",
    "else :       # Notifies Transaction ID is beyond valid range of transactions happened\n",
    "    print('Invalid Transaction ID {0}. Total Transactions are {1}'.format(transaction_id,total_transactions))"
   ]
  },
  {
   "cell_type": "markdown",
   "id": "0807b5a7",
   "metadata": {},
   "source": [
    "### 2.3. How many items are present in the ninth transaction?"
   ]
  },
  {
   "cell_type": "code",
   "execution_count": 9,
   "id": "2ba30a3c",
   "metadata": {},
   "outputs": [
    {
     "name": "stdout",
     "output_type": "stream",
     "text": [
      "Count of items in transaction 9 is 3\n"
     ]
    }
   ],
   "source": [
    "#-------code begins here-------\n",
    "transaction_id=9      # variable stores input for 9th transaction\n",
    "nth_txn=transaction_data[transaction_id-1] # Keys starts from 0 for a given list. Store value of nth position\n",
    "\n",
    "#Calculating the total items present in given transaction\n",
    "item_count=len(nth_txn)      # Counts the number of items in a given transaction and stores in item_count\n",
    "print('Count of items in transaction {0} is {1}'.format(transaction_id,item_count)) # Prints value total count of items in nth transaction\n"
   ]
  },
  {
   "cell_type": "markdown",
   "id": "1a24708e",
   "metadata": {},
   "source": [
    "### 2.4. Find the total cost of the ninth transaction from the array of transactions."
   ]
  },
  {
   "cell_type": "code",
   "execution_count": 10,
   "id": "7c3a0517",
   "metadata": {},
   "outputs": [
    {
     "name": "stdout",
     "output_type": "stream",
     "text": [
      "16\n"
     ]
    }
   ],
   "source": [
    "#-------code begins here-------\n",
    "transaction_id=9      # variable stores input for 9th transaction\n",
    "nth_txn=transaction_data[transaction_id-1] # Keys starts from 0 for a given list. Store value of nth position\n",
    "total_cost=0\n",
    "\n",
    "for i in nth_txn: # For loop to iterate each item in the given transaction\n",
    "    total_cost=total_cost+int(item_dict.get(i)) # get() to fetch cost for rach item in a given transaction to sum up for total\n",
    "print(total_cost) # Prints the total cost of 9th Transaction "
   ]
  },
  {
   "cell_type": "markdown",
   "id": "79913d9f",
   "metadata": {},
   "source": [
    "### 2.5. As per government guidelines, a mandatory 5% tax is applied to the total cost of a transaction. Find the final price of the second transaction after applicable taxes have been implemented."
   ]
  },
  {
   "cell_type": "code",
   "execution_count": 11,
   "id": "a2ed8968",
   "metadata": {},
   "outputs": [
    {
     "name": "stdout",
     "output_type": "stream",
     "text": [
      "Transaction ID 2. Final price inclusive of 5% tax is $23.1\n"
     ]
    }
   ],
   "source": [
    "#-------code begins here-------\n",
    "transaction_id=2     # variable stores input for 2nd transaction\n",
    "nth_txn=transaction_data[transaction_id-1] # Keys starts from 0 for a given list. Store value of nth position\n",
    "total_cost=0\n",
    "\n",
    "for i in nth_txn: # For loop to iterate each item in the given transaction\n",
    "    total_cost=total_cost+int(item_dict.get(i)) # get() to fetch cost for rach item in a given transaction to sum up for total \n",
    "    final_price=total_cost+(total_cost*0.05)    # Calculates the Final Total after adding the 5% tax\n",
    "    \n",
    "# Prints the total cost of 2nd Transaction as Final Total after adding the 5% tax      \n",
    "print('Transaction ID {0}. Final price inclusive of 5% tax is ${1}'.format(transaction_id,final_price)) "
   ]
  },
  {
   "cell_type": "markdown",
   "id": "b295ccb3",
   "metadata": {},
   "source": [
    "### 2.6. Create a function named find_total( ) to find the final price of any transaction after applicable taxes have been implemented.\n"
   ]
  },
  {
   "cell_type": "code",
   "execution_count": 12,
   "id": "1d90816a",
   "metadata": {},
   "outputs": [
    {
     "name": "stdout",
     "output_type": "stream",
     "text": [
      "Enter Transaction ID : \n",
      "9\n",
      "List of items:  ['frozen vegetables', 'spaghetti', 'green tea']\n",
      "Transaction ID 9. Final price inclusive of 5% tax is $16.8\n"
     ]
    }
   ],
   "source": [
    "#-------code begins here-------\n",
    "#--- Function Definition -----\n",
    "def find_total():\n",
    "    \n",
    "    #----Taking transaction value from user for any transaction------\n",
    "    print(\"Enter Transaction ID : \")\n",
    "    transaction_id=int(input())  # variable stores input for nth transaction\n",
    "    total_transactions=len(transaction_data)  # Find Total number of transactions with len() function and save to variable\n",
    "    total_cost=0\n",
    "    # Validate if the Transaction ID requested within range 1 and maximum number of transactions happened.\n",
    "\n",
    "    if transaction_id <= 0:     # Check Transaction ID entered by user should not be negative or zero \n",
    "        print('Invalid Transaction ID {0}. Starts at 1:'.format(transaction_id))\n",
    "    \n",
    "    elif 0 < transaction_id <= total_transactions:     # Check Transaction ID is within valid range\n",
    "        #For loop to iterate through transaction data for nth transaction\n",
    "        for nth_txn in transaction_data :\n",
    "            nth_txn=transaction_data[transaction_id-1] # Keys starts from 0 for a given list. Store value of nth position\n",
    "        print('List of items: ',nth_txn)  # Prints value of 9th transaction as transaction_id=9   \n",
    "        \n",
    "        #For loop to iterate through each item in nth transaction\n",
    "        for i in nth_txn: # For loop to iterate each item in the given transaction\n",
    "            total_cost=total_cost+int(item_dict.get(i)) # get() to fetch cost for rach item in a given transaction to sum up for total \n",
    "            final_price=total_cost+(total_cost*0.05)    # Calculates the Final Total after adding the 5% tax\n",
    "    \n",
    "    else :       # Notifies Transaction ID is beyond valid range of transactions happened\n",
    "        print('Invalid Transaction ID {0}. Total Transactions are {1}'.format(transaction_id,total_transactions))\n",
    "    \n",
    "    print('Transaction ID {0}. Final price inclusive of 5% tax is ${1}'.format(transaction_id,final_price)) \n",
    "\n",
    "#--- Function Call -----\n",
    "find_total()"
   ]
  },
  {
   "cell_type": "markdown",
   "id": "0c29e0db",
   "metadata": {},
   "source": [
    "## Q3. There is always a flow of items in and out of stores, which need to be tracked so that the store can place an order in case an item is running out of stock. Your third task is to build an inventory management system that will count the total number of items purchased from the transaction data. This inventory management system will go through each of the transactions one by one and increment the value for an item if it is found in a transaction."
   ]
  },
  {
   "cell_type": "markdown",
   "id": "f622a814",
   "metadata": {},
   "source": [
    "### 3.1. What is the data structure that can be used to count the frequency of items purchased (from the transaction data)?"
   ]
  },
  {
   "cell_type": "code",
   "execution_count": 13,
   "id": "312910c5",
   "metadata": {},
   "outputs": [],
   "source": [
    "# Answer -- Dictionary Data Structure is used to count frequency of each element\n",
    "# Return a dictionary data structure whose keys are array items and values are their corresponding frequencies"
   ]
  },
  {
   "cell_type": "markdown",
   "id": "adf57cfb",
   "metadata": {},
   "source": [
    "### 3.2. Create a frequency counter to count the number of items:\n"
   ]
  },
  {
   "cell_type": "code",
   "execution_count": 14,
   "id": "a379c393",
   "metadata": {},
   "outputs": [
    {
     "name": "stdout",
     "output_type": "stream",
     "text": [
      "{'shrimp': 2, 'almonds': 1, 'avocado': 2, 'vegetables mix': 1, 'green grapes': 1, 'whole wheat flour': 1, 'yams': 1, 'cottage cheese': 1, 'energy drink': 1, 'tomato juice': 1, 'low fat yogurt': 3, 'green tea': 3, 'honey': 3, 'salad': 1, 'mineral water': 6, 'salmon': 3, 'antioxidant juice': 1, 'frozen smoothie': 1, 'spinach': 1, 'olive oil': 1, 'burgers': 2, 'meatballs': 2, 'eggs': 5, 'chutney': 1, 'turkey': 4, 'milk': 2, 'energy bar': 1, 'whole wheat rice': 1, 'whole wheat pasta': 1, 'french fries': 3, 'soup': 1, 'light cream': 1, 'shallot': 1, 'frozen vegetables': 1, 'spaghetti': 3, 'pet food': 1, 'cookies': 2, 'cooking oil': 2, 'champagne': 1, 'chocolate': 1, 'chicken': 2, 'oil': 1, 'fresh tuna': 1, 'tomatoes': 1, 'black tea': 1, 'extra dark chocolate': 1, 'protein bar': 1}\n"
     ]
    }
   ],
   "source": [
    "#-------code begins here-------\n",
    "\n",
    "frequency_dict = {}  # creating the empty dictionary\n",
    "frequency=0 # Setting frequency to Zero for start\n",
    "\n",
    "# Frequency counter to count the number of items using nested for loop\n",
    "\n",
    "for transaction in transaction_data:   # looping over each transaction\n",
    "    for item in transaction:           # looping over each item present in the transaction\n",
    "        if item in frequency_dict:\n",
    "            frequency_dict[item] += 1  # increment the frequency by 1 if the item is found in the dictionary\n",
    "        else:\n",
    "            frequency_dict[item] = 1   # create a new key with the item name if the item is found for the first time\n",
    "\n",
    "print(frequency_dict) # Print the Dictionary frequency_dict with key and value representing the count of each item"
   ]
  },
  {
   "cell_type": "markdown",
   "id": "8650d8c7",
   "metadata": {},
   "source": [
    "### 3.3. A new transaction has just been made. This transaction includes “honey,” “pet food,” and “shrimp.” Update the frequency counter to reflect this new transaction"
   ]
  },
  {
   "cell_type": "code",
   "execution_count": 15,
   "id": "cd515a24",
   "metadata": {},
   "outputs": [
    {
     "name": "stdout",
     "output_type": "stream",
     "text": [
      "{'shrimp': 3, 'almonds': 1, 'avocado': 2, 'vegetables mix': 1, 'green grapes': 1, 'whole wheat flour': 1, 'yams': 1, 'cottage cheese': 1, 'energy drink': 1, 'tomato juice': 1, 'low fat yogurt': 3, 'green tea': 3, 'honey': 4, 'salad': 1, 'mineral water': 6, 'salmon': 3, 'antioxidant juice': 1, 'frozen smoothie': 1, 'spinach': 1, 'olive oil': 1, 'burgers': 2, 'meatballs': 2, 'eggs': 5, 'chutney': 1, 'turkey': 4, 'milk': 2, 'energy bar': 1, 'whole wheat rice': 1, 'whole wheat pasta': 1, 'french fries': 3, 'soup': 1, 'light cream': 1, 'shallot': 1, 'frozen vegetables': 1, 'spaghetti': 3, 'pet food': 2, 'cookies': 2, 'cooking oil': 2, 'champagne': 1, 'chocolate': 1, 'chicken': 2, 'oil': 1, 'fresh tuna': 1, 'tomatoes': 1, 'black tea': 1, 'extra dark chocolate': 1, 'protein bar': 1}\n"
     ]
    }
   ],
   "source": [
    "#-------code begins here-------\n",
    "\n",
    "new_transaction=\"honey\",\"pet food\",\"shrimp\" # New transaction assigned to variable\n",
    "new_txn_list=list(new_transaction)          # Converted to List \n",
    "transaction_data.append(new_txn_list)       # New transaction appended to the Transaction Data List\n",
    "\n",
    "\n",
    "# Frequency counter to count the number of items using nested for loop\n",
    "\n",
    "frequency_dict = {}  # creating the empty dictionary\n",
    "frequency=0 # Setting frequency to Zero for start\n",
    "\n",
    "for transaction in transaction_data:   # looping over each transaction\n",
    "    for item in transaction:           # looping over each item present in the transaction\n",
    "        if item in frequency_dict:\n",
    "            frequency_dict[item] += 1  # increment the frequency by 1 if the item is found in the dictionary\n",
    "        else:\n",
    "            frequency_dict[item] = 1   # create a new key with the item name if the item is found for the first time\n",
    "\n",
    "print(frequency_dict) # Print the Dictionary frequency_dict with key and value representing the count of each item"
   ]
  },
  {
   "cell_type": "markdown",
   "id": "ed040baf",
   "metadata": {},
   "source": [
    "### 3.4. Create a function named update_counter( ) to automatically update the frequency counter in case any new transaction is made"
   ]
  },
  {
   "cell_type": "code",
   "execution_count": 16,
   "id": "16392e2e",
   "metadata": {},
   "outputs": [
    {
     "name": "stdout",
     "output_type": "stream",
     "text": [
      "{'shrimp': 3, 'almonds': 1, 'avocado': 2, 'vegetables mix': 1, 'green grapes': 1, 'whole wheat flour': 1, 'yams': 1, 'cottage cheese': 1, 'energy drink': 1, 'tomato juice': 1, 'low fat yogurt': 3, 'green tea': 3, 'honey': 4, 'salad': 1, 'mineral water': 6, 'salmon': 3, 'antioxidant juice': 1, 'frozen smoothie': 1, 'spinach': 1, 'olive oil': 1, 'burgers': 2, 'meatballs': 2, 'eggs': 5, 'chutney': 1, 'turkey': 4, 'milk': 2, 'energy bar': 1, 'whole wheat rice': 1, 'whole wheat pasta': 1, 'french fries': 3, 'soup': 1, 'light cream': 1, 'shallot': 1, 'frozen vegetables': 1, 'spaghetti': 3, 'pet food': 2, 'cookies': 2, 'cooking oil': 2, 'champagne': 1, 'chocolate': 1, 'chicken': 2, 'oil': 1, 'fresh tuna': 1, 'tomatoes': 1, 'black tea': 1, 'extra dark chocolate': 1, 'protein bar': 1}\n"
     ]
    }
   ],
   "source": [
    "#-------code begins here-------\n",
    "frequency_dict = {}  # creating the empty dictionary\n",
    "frequency=0          # Sets the frequency counter to 0\n",
    "\n",
    "#--- Function Definition -----\n",
    "def update_counter(): \n",
    "    for transaction in transaction_data:   # looping over each transaction\n",
    "        for item in transaction:           # looping over each item present in the transaction\n",
    "            if item in frequency_dict:\n",
    "                frequency_dict[item] += 1  # increment the frequency by 1 if the item is found in the dictionary\n",
    "            else:\n",
    "                frequency_dict[item] = 1   # create a new key with the item name if the item is found for the first time\n",
    "    print(frequency_dict)  # Print the Dictionary frequency_dict with key and value representing the count of each item\n",
    "    \n",
    "#--- Function Call -----\n",
    "update_counter()     \n"
   ]
  },
  {
   "cell_type": "markdown",
   "id": "ed07cb71",
   "metadata": {},
   "source": [
    "## Q4. Walmart is running a discount week for Christmas! The sales manager has decided to keep a 20% discount on the top three selling items. Use the frequency counter that you created in Question 3 to solve this problem:"
   ]
  },
  {
   "cell_type": "code",
   "execution_count": 17,
   "id": "62ac6818",
   "metadata": {},
   "outputs": [
    {
     "data": {
      "text/plain": [
       "'mineral water'"
      ]
     },
     "execution_count": 17,
     "metadata": {},
     "output_type": "execute_result"
    }
   ],
   "source": [
    "#-------code begins here-------\n",
    "\n",
    "sorted_inventory_dict = {k: v for k, v in sorted(frequency_dict.items(), key=lambda item: item[1], reverse=True)}\n",
    "list(sorted_inventory_dict)[0]   #Top-selling item "
   ]
  },
  {
   "cell_type": "markdown",
   "id": "9dc3eddf",
   "metadata": {},
   "source": [
    "## OR"
   ]
  },
  {
   "cell_type": "code",
   "execution_count": 18,
   "id": "b16243b3",
   "metadata": {},
   "outputs": [
    {
     "name": "stdout",
     "output_type": "stream",
     "text": [
      "mineral water is top-selling item. Total 6 sold\n"
     ]
    }
   ],
   "source": [
    "#First put the Dictionary items into a list of values and keys\n",
    "v = list(frequency_dict.values()) # values() method gets the values and convert frequency_dict into a list of values\n",
    "k = list(frequency_dict.keys()) # keys() method gets the keys and convert frequency_dict into a list of keys\n",
    "# Taking max of top-selling key in m\n",
    "m=k[v.index(max(v))]\n",
    "print('{0} is top-selling item. Total {1} sold'.format(m,frequency_dict[m]))"
   ]
  },
  {
   "cell_type": "markdown",
   "id": "4c5904c4",
   "metadata": {},
   "source": [
    "### 4.2. In real life, departmental stores have thousands of items and millions of transactions in their databases. In such situations, it becomes important to use an effective searching algorithm to navigate through the data. You need to sort the frequency counter dictionary by the value count(or the number of items). For example, if there are 3 apples, 5 bananas and 1 watermelon, the sorted list would be banana, apple, watermelon. So you need to sort the entire dictionary (with keys and values) based on the value count. Sort the frequency counter using the sorting algorithms provided in the table below. Additionally, for each of the sorting methods, leverage the time function in Python to see how many milliseconds it takes for an algorithm to sort items."
   ]
  },
  {
   "cell_type": "markdown",
   "id": "d66ed0a7",
   "metadata": {},
   "source": [
    "### INSERTION SORT"
   ]
  },
  {
   "cell_type": "code",
   "execution_count": 19,
   "id": "d589f0c1",
   "metadata": {},
   "outputs": [
    {
     "name": "stdout",
     "output_type": "stream",
     "text": [
      "{'mineral water': 6, 'eggs': 5, 'honey': 4, 'turkey': 4, 'shrimp': 3, 'low fat yogurt': 3, 'green tea': 3, 'salmon': 3, 'french fries': 3, 'spaghetti': 3, 'avocado': 2, 'burgers': 2, 'meatballs': 2, 'milk': 2, 'pet food': 2, 'cookies': 2, 'cooking oil': 2, 'chicken': 2, 'almonds': 1, 'vegetables mix': 1, 'green grapes': 1, 'whole wheat flour': 1, 'yams': 1, 'cottage cheese': 1, 'energy drink': 1, 'tomato juice': 1, 'salad': 1, 'antioxidant juice': 1, 'frozen smoothie': 1, 'spinach': 1, 'olive oil': 1, 'chutney': 1, 'energy bar': 1, 'whole wheat rice': 1, 'whole wheat pasta': 1, 'soup': 1, 'light cream': 1, 'shallot': 1, 'frozen vegetables': 1, 'champagne': 1, 'chocolate': 1, 'oil': 1, 'fresh tuna': 1, 'tomatoes': 1, 'black tea': 1, 'extra dark chocolate': 1, 'protein bar': 1}\n",
      "Insertion Sort \n",
      " 1.028299331665039 millisecs\n"
     ]
    }
   ],
   "source": [
    "#-------code begins here-------\n",
    "\n",
    "import time #Import time function for Insertion sort\n",
    "\n",
    "#First put the Dictionary items into a list of values and keys\n",
    "v = list(frequency_dict.values()) # values() method gets the values and convert frequency_dict into a list of values\n",
    "k = list(frequency_dict.keys()) # keys() method gets the keys and convert frequency_dict into a list of keys\n",
    "\n",
    "#start time for Insertion sort\n",
    "st_is = time.time() \n",
    "\n",
    "#--- Function Definition INSERTION SORT-----\n",
    "def InsertionSort():\n",
    "    # Traverse through 1 to len(v)\n",
    "    for i in range(1, len(v)):\n",
    "        k1 = v[i]\n",
    "        k2 = k[i]\n",
    "        # Move elements of v[0..i-1], that are greater than key, to one position ahead of their current position\n",
    "        j = i-1\n",
    "        while j >= 0 and v[j] < k1 : # For descending order \n",
    "                v[j + 1] = v[j]\n",
    "                k[j + 1] = k[j]\n",
    "                j -= 1\n",
    "        v[j + 1] = k1\n",
    "        k[j + 1] = k2\n",
    "\n",
    "#--- Function Call -----\n",
    "InsertionSort()\n",
    "\n",
    "# Paired keys and values together with zip()\n",
    "sorted_frequency_dict = list(zip(k, v))\n",
    "\n",
    "# Final collection of key-value pairs Frequency Dictionary created with dict() function  \n",
    "print(dict(sorted_frequency_dict))\n",
    "\n",
    "# End time for Insertion Sort\n",
    "et_is=time.time()\n",
    "\n",
    "# Final time taken for Insertion Sort\n",
    "ft_InsSort = (et_is - st_is)*1000 # Returns values in secs ,Convert secs to millisecs multiply the time value by 1000\n",
    "\n",
    "# Convert secs to millisecs multiply the time value by 1000\n",
    "print(\"Insertion Sort \\n\",ft_InsSort,\"millisecs\")"
   ]
  },
  {
   "cell_type": "markdown",
   "id": "fe7c2075",
   "metadata": {},
   "source": [
    "### MERGE SORT"
   ]
  },
  {
   "cell_type": "code",
   "execution_count": 21,
   "id": "89fffb71",
   "metadata": {},
   "outputs": [
    {
     "name": "stdout",
     "output_type": "stream",
     "text": [
      "{'mineral water': 6, 'eggs': 5, 'honey': 4, 'turkey': 4, 'shrimp': 3, 'low fat yogurt': 3, 'green tea': 3, 'salmon': 3, 'french fries': 3, 'spaghetti': 3, 'avocado': 2, 'burgers': 2, 'meatballs': 2, 'milk': 2, 'pet food': 2, 'cookies': 2, 'cooking oil': 2, 'chicken': 2, 'almonds': 1, 'vegetables mix': 1, 'green grapes': 1, 'whole wheat flour': 1, 'yams': 1, 'cottage cheese': 1, 'energy drink': 1, 'tomato juice': 1, 'salad': 1, 'antioxidant juice': 1, 'frozen smoothie': 1, 'spinach': 1, 'olive oil': 1, 'chutney': 1, 'energy bar': 1, 'whole wheat rice': 1, 'whole wheat pasta': 1, 'soup': 1, 'light cream': 1, 'shallot': 1, 'frozen vegetables': 1, 'champagne': 1, 'chocolate': 1, 'oil': 1, 'fresh tuna': 1, 'tomatoes': 1, 'black tea': 1, 'extra dark chocolate': 1, 'protein bar': 1}\n",
      "Merge sort Time \n",
      " 0.0 millisecs\n"
     ]
    }
   ],
   "source": [
    "#-------code begins here-------\n",
    "\n",
    "import time #Import time function for Merge sort\n",
    "\n",
    "#First put the Dictionary items into a list of values and keys\n",
    "v = list(frequency_dict.values()) # values() method gets the values and convert frequency_dict into a list of values\n",
    "k = list(frequency_dict.keys()) # keys() method gets the keys and convert frequency_dict into a list of keys\n",
    "\n",
    "#start time for Merge sort\n",
    "st_ms = time.time() \n",
    "\n",
    "#--- Function Definition MERGE SORT-----\n",
    "def MergeSort(v,k):\n",
    "    if len(v) > 1:\n",
    "        # Finding the mid of the array\n",
    "        mid = len(v)//2\n",
    "        # Dividing the array elements\n",
    "        Left_v = v[:mid]\n",
    "        Left_k = k[:mid]\n",
    "        # into 2 halves\n",
    "        Right_v = v[mid:]\n",
    "        Right_k = k[mid:]\n",
    "        # Sorting the first half\n",
    "        MergeSort(Left_v,Left_k)\n",
    "        # Sorting the second half\n",
    "        MergeSort(Right_v,Right_k)\n",
    "        a = b = c = 0\n",
    "    # Traverse through 1 to len(arr), Copy data to temp arrays L[] and R[]\n",
    "        while a < len(Left_v) and b < len(Right_v):\n",
    "            if Left_v[a] >= Right_v[b]:\n",
    "                v[c] = Left_v[a]\n",
    "                k[c] = Left_k[a]\n",
    "                a += 1\n",
    "            else:\n",
    "                v[c] = Right_v[b]\n",
    "                k[c] = Right_k[b]\n",
    "                b += 1\n",
    "            c += 1\n",
    "        \n",
    "        # Checking if any element was left\n",
    "        while a < len(Left_v):        \n",
    "            v[c] = Left_v[a]\n",
    "            k[c] = Left_k[a]\n",
    "            a += 1\n",
    "            c += 1\n",
    "\n",
    "        while b < len(Right_v):    \n",
    "            v[c] = Right_v[b]\n",
    "            k[c] = Right_k[b]\n",
    "            b += 1\n",
    "            c += 1\n",
    "            \n",
    "#--- Function Call -----\n",
    "MergeSort(v,k)\n",
    "\n",
    "# Paired keys and values together with zip()\n",
    "sorted_frequency_dict = list(zip(k, v))\n",
    "\n",
    "# Final collection of key-value pairs Frequency Dictionary created with dict() function  \n",
    "print(dict(sorted_frequency_dict))  \n",
    "\n",
    "# End time for Merge Sort\n",
    "et_ms = time.time()\n",
    "\n",
    "# Final time taken for Merge Sort\n",
    "ft_MerSort = (et_ms - st_ms)*1000 # Returns values in secs ,Convert secs to millisecs multiply the time value by 1000\n",
    " \n",
    "print(\"Merge sort Time \\n\",ft_MerSort,\"millisecs\")"
   ]
  },
  {
   "cell_type": "markdown",
   "id": "05714b39",
   "metadata": {},
   "source": [
    "### SELECTION SORT"
   ]
  },
  {
   "cell_type": "code",
   "execution_count": 22,
   "id": "e9f8d956",
   "metadata": {},
   "outputs": [
    {
     "name": "stdout",
     "output_type": "stream",
     "text": [
      "{'mineral water': 6, 'eggs': 5, 'honey': 4, 'turkey': 4, 'low fat yogurt': 3, 'green tea': 3, 'shrimp': 3, 'salmon': 3, 'french fries': 3, 'spaghetti': 3, 'avocado': 2, 'burgers': 2, 'meatballs': 2, 'milk': 2, 'pet food': 2, 'cookies': 2, 'cooking oil': 2, 'chicken': 2, 'spinach': 1, 'olive oil': 1, 'whole wheat flour': 1, 'green grapes': 1, 'almonds': 1, 'chutney': 1, 'vegetables mix': 1, 'salad': 1, 'energy bar': 1, 'whole wheat rice': 1, 'whole wheat pasta': 1, 'energy drink': 1, 'soup': 1, 'light cream': 1, 'shallot': 1, 'frozen vegetables': 1, 'tomato juice': 1, 'yams': 1, 'cottage cheese': 1, 'antioxidant juice': 1, 'champagne': 1, 'chocolate': 1, 'frozen smoothie': 1, 'oil': 1, 'fresh tuna': 1, 'tomatoes': 1, 'black tea': 1, 'extra dark chocolate': 1, 'protein bar': 1}\n",
      "Selection sort Time \n",
      " 1.0950565338134766 millisecs\n"
     ]
    }
   ],
   "source": [
    "#-------code begins here-------\n",
    "\n",
    "import time #Import time function for Selection sort\n",
    "\n",
    "#First put the Dictionary items into a list of values and keys\n",
    "\n",
    "v = list(frequency_dict.values()) # values() method gets the values and convert frequency_dict into a list of values\n",
    "k = list(frequency_dict.keys()) # keys() method gets the keys and convert frequency_dict into a list of keys\n",
    "\n",
    "#start time for Selection sort\n",
    "st_ss = time.time() \n",
    "#--- Function Definition SELECTION SORT------ \n",
    "def SelectionSort(): \n",
    "# Traverse through all array elements\n",
    "    for i in range(len(v)):\n",
    "# Find the minimum element in remaining unsorted array\n",
    "        min_idx = i\n",
    "        for j in range(i+1, len(v)):\n",
    "              if v[j] > v[min_idx]:  \n",
    "                min_idx = j\n",
    "# Swap the found minimum element with the first element       \n",
    "        v[i], v[min_idx] = v[min_idx],v[i]\n",
    "        k[i], k[min_idx] = k[min_idx],k[i]\n",
    "\n",
    "#--- Function Call -----        \n",
    "SelectionSort()\n",
    "\n",
    "# Paired keys and values together with zip()\n",
    "sorted_frequency_dict = list(zip(k, v))\n",
    "\n",
    "# Final collection of key-value pairs Frequency Dictionary created with dict() function  \n",
    "print(dict(sorted_frequency_dict)) \n",
    "\n",
    "# End time for Selection Sort\n",
    "et_ss = time.time()\n",
    "\n",
    "# Final time taken for Selection Sort\n",
    "ft_SelSort = (et_ss - st_ss)*1000 # Returns values in secs ,Convert secs to millisecs multiply the time value by 1000\n",
    "\n",
    "# Convert secs to millisecs multiply the time value by 1000\n",
    "print(\"Selection sort Time \\n\",ft_SelSort,\"millisecs\")"
   ]
  },
  {
   "cell_type": "markdown",
   "id": "cc3ed6cd",
   "metadata": {},
   "source": [
    "### 4.3. Rank the sorting algorithms in order of the time they take to sort items."
   ]
  },
  {
   "cell_type": "code",
   "execution_count": 23,
   "id": "b049f66c",
   "metadata": {},
   "outputs": [
    {
     "name": "stdout",
     "output_type": "stream",
     "text": [
      "{'Merge Sort': 0.0, 'Insertion Sort': 1.028299331665039, 'Selection Sort': 1.0950565338134766}\n",
      "Rank as per Time Complexity in millisecs \n",
      "1. Merge Sort 0.0 \n",
      "\n",
      "2. Insertion Sort 1.028299331665039 \n",
      "\n",
      "3. Selection Sort 1.0950565338134766 \n",
      "\n"
     ]
    }
   ],
   "source": [
    "#Create Dictionary of key-value (alogrithm:time in ms) to rank as per each sorting algorithm based on time\n",
    "time_dict = {\"Insertion Sort\":ft_InsSort,\"Merge Sort\":ft_MerSort,\"Selection Sort\":ft_SelSort}\n",
    "\n",
    "#Sort the dictionary based on the time taken\n",
    "sorted_time = {k: v for k, v in sorted(time_dict.items(), key=lambda item: item[1])}\n",
    "print (sorted_time)\n",
    "\n",
    "#Use for loop to print the Key Value  \n",
    "print (\"Rank as per Time Complexity in millisecs \")\n",
    "rank=1\n",
    "for key, value in sorted_time.items():\n",
    "    print(\"{0}. {1} {2} \\n\".format(rank,key,value))\n",
    "    rank+=1 "
   ]
  }
 ],
 "metadata": {
  "kernelspec": {
   "display_name": "Python 3 (ipykernel)",
   "language": "python",
   "name": "python3"
  },
  "language_info": {
   "codemirror_mode": {
    "name": "ipython",
    "version": 3
   },
   "file_extension": ".py",
   "mimetype": "text/x-python",
   "name": "python",
   "nbconvert_exporter": "python",
   "pygments_lexer": "ipython3",
   "version": "3.12.4"
  }
 },
 "nbformat": 4,
 "nbformat_minor": 5
}
